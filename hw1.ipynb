{
 "cells": [
  {
   "cell_type": "markdown",
   "metadata": {},
   "source": [
    "## Домашнее задание"
   ]
  },
  {
   "cell_type": "markdown",
   "metadata": {},
   "source": [
    "__1.__ Какой из флагов утилиты crontab покажет список существующих кронов?\n",
    "\n",
    "Ответ: crontab -l"
   ]
  },
  {
   "cell_type": "markdown",
   "metadata": {},
   "source": [
    "__2.__ Напишите крон, который будет запускаться каждую пятницу в 9 часов вечера.\n",
    "\n",
    "Ответ: 0 21 * * 5"
   ]
  },
  {
   "cell_type": "markdown",
   "metadata": {},
   "source": [
    "__3.__ Напишите крон, который будет запускаться каждое воскресенье марта месяца на протяжении всего дня с интервалом в 4 часа (т.е. запуск будет в 2021-03-07 00:00:00, затем 2021-03-07 04:00:00 и т.д.)\n",
    "\n",
    "Ответ: 0 */4 * 3 7"
   ]
  },
  {
   "cell_type": "markdown",
   "metadata": {},
   "source": [
    "__4.__ Отметьте все картинки, где изображен направленный ациклический граф.\n",
    "\n",
    "<img src=\"images/1/dag_question.png\" style=\"width: 500px;\"> \n",
    "\n",
    "Ответ: 1, 3"
   ]
  },
  {
   "cell_type": "markdown",
   "metadata": {},
   "source": [
    "__5.__ Опишите своими словами, как Вы поняли, чем отличается task от operator?\n",
    "\n",
    "Ответ: task - это сценарий на python или bash который легко может быть вызван оператором airflow. Operator - это сущность airflow которая вызывает сценарий из таска. Я так понимаю что оператор это как класс, а когда сценарий таска вызвается оператором то становится как \"экземпляр класса\". Пожалуйста прокомментируйте правильно или не правильно."
   ]
  }
 ],
 "metadata": {
  "kernelspec": {
   "display_name": "Python 3",
   "language": "python",
   "name": "python3"
  },
  "language_info": {
   "codemirror_mode": {
    "name": "ipython",
    "version": 3
   },
   "file_extension": ".py",
   "mimetype": "text/x-python",
   "name": "python",
   "nbconvert_exporter": "python",
   "pygments_lexer": "ipython3",
   "version": "3.8.3"
  }
 },
 "nbformat": 4,
 "nbformat_minor": 4
}
